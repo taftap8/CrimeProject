{
 "cells": [
  {
   "cell_type": "markdown",
   "metadata": {},
   "source": [
    "# Crime Project - Final Data Analysis\n",
    "\n",
    "### Changes in Shooting Rates in New York City over Time\n",
    "\n",
    "Our project will focus on multi-year shooting incidents in New York City. We will compare policing methodologies of the NYPD and how their shooting rate has changed over time. The goal will be to measure the success of applied methodologies by analyzing changes in shootings over a 14-year period. "
   ]
  },
  {
   "cell_type": "markdown",
   "metadata": {},
   "source": [
    "## Importing Dependencies & Data"
   ]
  },
  {
   "cell_type": "code",
   "execution_count": 1,
   "metadata": {},
   "outputs": [],
   "source": [
    "#Dependencies\n",
    "import pandas as pd\n",
    "import numpy as np\n",
    "import matplotlib.pyplot as plt\n",
    "import gmaps\n",
    "import fiona\n",
    "import geopandas\n",
    "import json\n",
    "import scipy.stats as sts\n",
    "from scipy.stats import linregress\n",
    "\n",
    "# Google developer API key\n",
    "from api_keys import g_key\n",
    "\n",
    "# Configure gmaps\n",
    "gmaps.configure(api_key=g_key)"
   ]
  },
  {
   "cell_type": "code",
   "execution_count": 2,
   "metadata": {},
   "outputs": [
    {
     "data": {
      "text/html": [
       "<div>\n",
       "<style scoped>\n",
       "    .dataframe tbody tr th:only-of-type {\n",
       "        vertical-align: middle;\n",
       "    }\n",
       "\n",
       "    .dataframe tbody tr th {\n",
       "        vertical-align: top;\n",
       "    }\n",
       "\n",
       "    .dataframe thead th {\n",
       "        text-align: right;\n",
       "    }\n",
       "</style>\n",
       "<table border=\"1\" class=\"dataframe\">\n",
       "  <thead>\n",
       "    <tr style=\"text-align: right;\">\n",
       "      <th></th>\n",
       "      <th>INCIDENT_KEY</th>\n",
       "      <th>OCCUR_DATE</th>\n",
       "      <th>OCCUR_TIME</th>\n",
       "      <th>BORO</th>\n",
       "      <th>PRECINCT</th>\n",
       "      <th>JURISDICTION_CODE</th>\n",
       "      <th>LOCATION_DESC</th>\n",
       "      <th>STATISTICAL_MURDER_FLAG</th>\n",
       "      <th>PERP_AGE_GROUP</th>\n",
       "      <th>PERP_SEX</th>\n",
       "      <th>PERP_RACE</th>\n",
       "      <th>VIC_AGE_GROUP</th>\n",
       "      <th>VIC_SEX</th>\n",
       "      <th>VIC_RACE</th>\n",
       "      <th>X_COORD_CD</th>\n",
       "      <th>Y_COORD_CD</th>\n",
       "      <th>Latitude</th>\n",
       "      <th>Longitude</th>\n",
       "      <th>Lon_Lat</th>\n",
       "    </tr>\n",
       "  </thead>\n",
       "  <tbody>\n",
       "    <tr>\n",
       "      <th>0</th>\n",
       "      <td>156430715</td>\n",
       "      <td>09/02/2016</td>\n",
       "      <td>20:36:00</td>\n",
       "      <td>BRONX</td>\n",
       "      <td>44</td>\n",
       "      <td>0.0</td>\n",
       "      <td>NaN</td>\n",
       "      <td>False</td>\n",
       "      <td>NaN</td>\n",
       "      <td>NaN</td>\n",
       "      <td>NaN</td>\n",
       "      <td>25-44</td>\n",
       "      <td>F</td>\n",
       "      <td>BLACK</td>\n",
       "      <td>1007885</td>\n",
       "      <td>246406</td>\n",
       "      <td>40.842979</td>\n",
       "      <td>-73.914580</td>\n",
       "      <td>POINT (-73.91457972899997 40.842979335000045)</td>\n",
       "    </tr>\n",
       "    <tr>\n",
       "      <th>1</th>\n",
       "      <td>145001700</td>\n",
       "      <td>08/02/2015</td>\n",
       "      <td>1:30:00</td>\n",
       "      <td>BRONX</td>\n",
       "      <td>43</td>\n",
       "      <td>0.0</td>\n",
       "      <td>NaN</td>\n",
       "      <td>False</td>\n",
       "      <td>NaN</td>\n",
       "      <td>NaN</td>\n",
       "      <td>NaN</td>\n",
       "      <td>&lt;18</td>\n",
       "      <td>F</td>\n",
       "      <td>BLACK</td>\n",
       "      <td>1023203</td>\n",
       "      <td>238742</td>\n",
       "      <td>40.821890</td>\n",
       "      <td>-73.859262</td>\n",
       "      <td>POINT (-73.85926192199997 40.82188959900003)</td>\n",
       "    </tr>\n",
       "    <tr>\n",
       "      <th>2</th>\n",
       "      <td>137584243</td>\n",
       "      <td>07/04/2014</td>\n",
       "      <td>22:39:00</td>\n",
       "      <td>MANHATTAN</td>\n",
       "      <td>32</td>\n",
       "      <td>0.0</td>\n",
       "      <td>NaN</td>\n",
       "      <td>False</td>\n",
       "      <td>NaN</td>\n",
       "      <td>NaN</td>\n",
       "      <td>NaN</td>\n",
       "      <td>18-24</td>\n",
       "      <td>M</td>\n",
       "      <td>BLACK</td>\n",
       "      <td>1000493</td>\n",
       "      <td>236572</td>\n",
       "      <td>40.816005</td>\n",
       "      <td>-73.941320</td>\n",
       "      <td>POINT (-73.94131972799995 40.81600451200006)</td>\n",
       "    </tr>\n",
       "    <tr>\n",
       "      <th>3</th>\n",
       "      <td>154563857</td>\n",
       "      <td>07/03/2016</td>\n",
       "      <td>1:30:00</td>\n",
       "      <td>BROOKLYN</td>\n",
       "      <td>83</td>\n",
       "      <td>0.0</td>\n",
       "      <td>NaN</td>\n",
       "      <td>False</td>\n",
       "      <td>NaN</td>\n",
       "      <td>NaN</td>\n",
       "      <td>NaN</td>\n",
       "      <td>18-24</td>\n",
       "      <td>M</td>\n",
       "      <td>BLACK</td>\n",
       "      <td>1008115</td>\n",
       "      <td>190458</td>\n",
       "      <td>40.689416</td>\n",
       "      <td>-73.913947</td>\n",
       "      <td>POINT (-73.91394709799994 40.68941602700004)</td>\n",
       "    </tr>\n",
       "    <tr>\n",
       "      <th>4</th>\n",
       "      <td>33160009</td>\n",
       "      <td>07/17/2007</td>\n",
       "      <td>23:30:00</td>\n",
       "      <td>BROOKLYN</td>\n",
       "      <td>71</td>\n",
       "      <td>0.0</td>\n",
       "      <td>NaN</td>\n",
       "      <td>False</td>\n",
       "      <td>NaN</td>\n",
       "      <td>NaN</td>\n",
       "      <td>NaN</td>\n",
       "      <td>&lt;18</td>\n",
       "      <td>M</td>\n",
       "      <td>BLACK</td>\n",
       "      <td>995163</td>\n",
       "      <td>178527</td>\n",
       "      <td>40.656694</td>\n",
       "      <td>-73.960670</td>\n",
       "      <td>POINT (-73.96066977199997 40.656693553000025)</td>\n",
       "    </tr>\n",
       "  </tbody>\n",
       "</table>\n",
       "</div>"
      ],
      "text/plain": [
       "   INCIDENT_KEY  OCCUR_DATE OCCUR_TIME       BORO  PRECINCT  \\\n",
       "0     156430715  09/02/2016   20:36:00      BRONX        44   \n",
       "1     145001700  08/02/2015    1:30:00      BRONX        43   \n",
       "2     137584243  07/04/2014   22:39:00  MANHATTAN        32   \n",
       "3     154563857  07/03/2016    1:30:00   BROOKLYN        83   \n",
       "4      33160009  07/17/2007   23:30:00   BROOKLYN        71   \n",
       "\n",
       "   JURISDICTION_CODE LOCATION_DESC  STATISTICAL_MURDER_FLAG PERP_AGE_GROUP  \\\n",
       "0                0.0           NaN                    False            NaN   \n",
       "1                0.0           NaN                    False            NaN   \n",
       "2                0.0           NaN                    False            NaN   \n",
       "3                0.0           NaN                    False            NaN   \n",
       "4                0.0           NaN                    False            NaN   \n",
       "\n",
       "  PERP_SEX PERP_RACE VIC_AGE_GROUP VIC_SEX VIC_RACE X_COORD_CD Y_COORD_CD  \\\n",
       "0      NaN       NaN         25-44       F    BLACK    1007885     246406   \n",
       "1      NaN       NaN           <18       F    BLACK    1023203     238742   \n",
       "2      NaN       NaN         18-24       M    BLACK    1000493     236572   \n",
       "3      NaN       NaN         18-24       M    BLACK    1008115     190458   \n",
       "4      NaN       NaN           <18       M    BLACK     995163     178527   \n",
       "\n",
       "    Latitude  Longitude                                        Lon_Lat  \n",
       "0  40.842979 -73.914580  POINT (-73.91457972899997 40.842979335000045)  \n",
       "1  40.821890 -73.859262   POINT (-73.85926192199997 40.82188959900003)  \n",
       "2  40.816005 -73.941320   POINT (-73.94131972799995 40.81600451200006)  \n",
       "3  40.689416 -73.913947   POINT (-73.91394709799994 40.68941602700004)  \n",
       "4  40.656694 -73.960670  POINT (-73.96066977199997 40.656693553000025)  "
      ]
     },
     "execution_count": 2,
     "metadata": {},
     "output_type": "execute_result"
    }
   ],
   "source": [
    "# Store filepath in a variable and load the data into a dataframe\n",
    "# History NYC shooting data 2006-2019 & year-to-date data for 2020\n",
    "# Append the 2 dataframes\n",
    "shooting_crime_file_historic = \"Resources/NYPD_Shooting_Incident_Data__Historic_.csv\"\n",
    "shooting_crime_ytd = \"Resources/NYPD_Shooting_Incident_Data__Year_To_Date_.csv\"\n",
    "\n",
    "shooting_df_historic = pd.read_csv(shooting_crime_file_historic)\n",
    "shooting_df_ytd = pd.read_csv(shooting_crime_ytd)\n",
    "\n",
    "shooting_df = shooting_df_historic.append(shooting_df_ytd)\n",
    "shooting_df.head()"
   ]
  },
  {
   "cell_type": "code",
   "execution_count": 3,
   "metadata": {},
   "outputs": [
    {
     "data": {
      "text/html": [
       "<div>\n",
       "<style scoped>\n",
       "    .dataframe tbody tr th:only-of-type {\n",
       "        vertical-align: middle;\n",
       "    }\n",
       "\n",
       "    .dataframe tbody tr th {\n",
       "        vertical-align: top;\n",
       "    }\n",
       "\n",
       "    .dataframe thead th {\n",
       "        text-align: right;\n",
       "    }\n",
       "</style>\n",
       "<table border=\"1\" class=\"dataframe\">\n",
       "  <thead>\n",
       "    <tr style=\"text-align: right;\">\n",
       "      <th></th>\n",
       "      <th>BORO</th>\n",
       "      <th>Counties</th>\n",
       "      <th>Population</th>\n",
       "      <th>GDP Billions</th>\n",
       "      <th>GDP Per Capita</th>\n",
       "      <th>Land Area Miles</th>\n",
       "      <th>Land Area Kilometers</th>\n",
       "      <th>Density Persons Square Miles</th>\n",
       "      <th>Density Persons Kilometers</th>\n",
       "    </tr>\n",
       "  </thead>\n",
       "  <tbody>\n",
       "    <tr>\n",
       "      <th>0</th>\n",
       "      <td>BRONX</td>\n",
       "      <td>Bronx</td>\n",
       "      <td>1418207</td>\n",
       "      <td>42695</td>\n",
       "      <td>30100</td>\n",
       "      <td>42.10</td>\n",
       "      <td>109.04</td>\n",
       "      <td>33867</td>\n",
       "      <td>13006</td>\n",
       "    </tr>\n",
       "    <tr>\n",
       "      <th>1</th>\n",
       "      <td>BROOKLYN</td>\n",
       "      <td>Kings</td>\n",
       "      <td>2559903</td>\n",
       "      <td>91559</td>\n",
       "      <td>35800</td>\n",
       "      <td>70.82</td>\n",
       "      <td>183.42</td>\n",
       "      <td>36147</td>\n",
       "      <td>13957</td>\n",
       "    </tr>\n",
       "    <tr>\n",
       "      <th>2</th>\n",
       "      <td>MANHATTAN</td>\n",
       "      <td>New York</td>\n",
       "      <td>1628706</td>\n",
       "      <td>600244</td>\n",
       "      <td>368500</td>\n",
       "      <td>22.83</td>\n",
       "      <td>59.13</td>\n",
       "      <td>71341</td>\n",
       "      <td>27544</td>\n",
       "    </tr>\n",
       "    <tr>\n",
       "      <th>3</th>\n",
       "      <td>QUEENS</td>\n",
       "      <td>Queens</td>\n",
       "      <td>2253858</td>\n",
       "      <td>93310</td>\n",
       "      <td>41400</td>\n",
       "      <td>108.53</td>\n",
       "      <td>281.09</td>\n",
       "      <td>20767</td>\n",
       "      <td>8018</td>\n",
       "    </tr>\n",
       "    <tr>\n",
       "      <th>4</th>\n",
       "      <td>STATEN ISLAND</td>\n",
       "      <td>Richmond</td>\n",
       "      <td>476143</td>\n",
       "      <td>14514</td>\n",
       "      <td>30500</td>\n",
       "      <td>58.37</td>\n",
       "      <td>151.18</td>\n",
       "      <td>8157</td>\n",
       "      <td>3150</td>\n",
       "    </tr>\n",
       "  </tbody>\n",
       "</table>\n",
       "</div>"
      ],
      "text/plain": [
       "            BORO  Counties  Population  GDP Billions  GDP Per Capita  \\\n",
       "0          BRONX     Bronx     1418207         42695           30100   \n",
       "1       BROOKLYN     Kings     2559903         91559           35800   \n",
       "2      MANHATTAN  New York     1628706        600244          368500   \n",
       "3         QUEENS    Queens     2253858         93310           41400   \n",
       "4  STATEN ISLAND  Richmond      476143         14514           30500   \n",
       "\n",
       "   Land Area Miles  Land Area Kilometers  Density Persons Square Miles  \\\n",
       "0            42.10                109.04                         33867   \n",
       "1            70.82                183.42                         36147   \n",
       "2            22.83                 59.13                         71341   \n",
       "3           108.53                281.09                         20767   \n",
       "4            58.37                151.18                          8157   \n",
       "\n",
       "   Density Persons Kilometers  \n",
       "0                       13006  \n",
       "1                       13957  \n",
       "2                       27544  \n",
       "3                        8018  \n",
       "4                        3150  "
      ]
     },
     "execution_count": 3,
     "metadata": {},
     "output_type": "execute_result"
    }
   ],
   "source": [
    "# NYC population data\n",
    "boroughs = [\"BRONX\",\"BROOKLYN\",\"MANHATTAN\",\"QUEENS\",\"STATEN ISLAND\"]\n",
    "counties = [\"Bronx\",\"Kings\",\"New York\",\"Queens\",\"Richmond\"]\n",
    "population_estimate = [1418207,2559903,1628706,2253858,476143]\n",
    "gdp_billions = [42695,91559,600244,93310,14514]\n",
    "gdp_per_capita = [30100,35800,368500,41400,30500]\n",
    "land_area_miles = [42.10,70.82,22.83,108.53,58.37]\n",
    "land_area_km = [109.04,183.42,59.13,281.09,151.18]\n",
    "density_persons_sm = [33867,36147,71341,20767,8157]\n",
    "density_persons_km = [13006,13957,27544,8018,3150]\n",
    "\n",
    "nyc_five_boroughs_df = pd.DataFrame({\n",
    "    \"BORO\" : boroughs,\n",
    "    \"Counties\" : counties,\n",
    "    \"Population\" : population_estimate,\n",
    "    \"GDP Billions\" : gdp_billions,\n",
    "    \"GDP Per Capita\" : gdp_per_capita,\n",
    "    \"Land Area Miles\" : land_area_miles,\n",
    "    \"Land Area Kilometers\" : land_area_km,\n",
    "    \"Density Persons Square Miles\" : density_persons_sm,\n",
    "    \"Density Persons Kilometers\" : density_persons_km\n",
    "})\n",
    "\n",
    "nyc_five_boroughs_df.head()"
   ]
  },
  {
   "cell_type": "code",
   "execution_count": 4,
   "metadata": {},
   "outputs": [
    {
     "data": {
      "text/html": [
       "<div>\n",
       "<style scoped>\n",
       "    .dataframe tbody tr th:only-of-type {\n",
       "        vertical-align: middle;\n",
       "    }\n",
       "\n",
       "    .dataframe tbody tr th {\n",
       "        vertical-align: top;\n",
       "    }\n",
       "\n",
       "    .dataframe thead th {\n",
       "        text-align: right;\n",
       "    }\n",
       "</style>\n",
       "<table border=\"1\" class=\"dataframe\">\n",
       "  <thead>\n",
       "    <tr style=\"text-align: right;\">\n",
       "      <th></th>\n",
       "      <th>INCIDENT_KEY</th>\n",
       "      <th>OCCUR_DATE</th>\n",
       "      <th>OCCUR_TIME</th>\n",
       "      <th>BORO</th>\n",
       "      <th>PRECINCT</th>\n",
       "      <th>JURISDICTION_CODE</th>\n",
       "      <th>LOCATION_DESC</th>\n",
       "      <th>STATISTICAL_MURDER_FLAG</th>\n",
       "      <th>PERP_AGE_GROUP</th>\n",
       "      <th>PERP_SEX</th>\n",
       "      <th>...</th>\n",
       "      <th>VIC_AGE_GROUP</th>\n",
       "      <th>VIC_SEX</th>\n",
       "      <th>VIC_RACE</th>\n",
       "      <th>X_COORD_CD</th>\n",
       "      <th>Y_COORD_CD</th>\n",
       "      <th>Latitude</th>\n",
       "      <th>Longitude</th>\n",
       "      <th>Lon_Lat</th>\n",
       "      <th>Year</th>\n",
       "      <th>ShootingMonth</th>\n",
       "    </tr>\n",
       "  </thead>\n",
       "  <tbody>\n",
       "    <tr>\n",
       "      <th>0</th>\n",
       "      <td>156430715</td>\n",
       "      <td>09/02/2016</td>\n",
       "      <td>20:36:00</td>\n",
       "      <td>BRONX</td>\n",
       "      <td>44</td>\n",
       "      <td>0.0</td>\n",
       "      <td>NaN</td>\n",
       "      <td>False</td>\n",
       "      <td>NaN</td>\n",
       "      <td>NaN</td>\n",
       "      <td>...</td>\n",
       "      <td>25-44</td>\n",
       "      <td>F</td>\n",
       "      <td>BLACK</td>\n",
       "      <td>1007885</td>\n",
       "      <td>246406</td>\n",
       "      <td>40.842979</td>\n",
       "      <td>-73.914580</td>\n",
       "      <td>POINT (-73.91457972899997 40.842979335000045)</td>\n",
       "      <td>2016</td>\n",
       "      <td>9</td>\n",
       "    </tr>\n",
       "    <tr>\n",
       "      <th>1</th>\n",
       "      <td>145001700</td>\n",
       "      <td>08/02/2015</td>\n",
       "      <td>1:30:00</td>\n",
       "      <td>BRONX</td>\n",
       "      <td>43</td>\n",
       "      <td>0.0</td>\n",
       "      <td>NaN</td>\n",
       "      <td>False</td>\n",
       "      <td>NaN</td>\n",
       "      <td>NaN</td>\n",
       "      <td>...</td>\n",
       "      <td>&lt;18</td>\n",
       "      <td>F</td>\n",
       "      <td>BLACK</td>\n",
       "      <td>1023203</td>\n",
       "      <td>238742</td>\n",
       "      <td>40.821890</td>\n",
       "      <td>-73.859262</td>\n",
       "      <td>POINT (-73.85926192199997 40.82188959900003)</td>\n",
       "      <td>2015</td>\n",
       "      <td>8</td>\n",
       "    </tr>\n",
       "    <tr>\n",
       "      <th>2</th>\n",
       "      <td>137584243</td>\n",
       "      <td>07/04/2014</td>\n",
       "      <td>22:39:00</td>\n",
       "      <td>MANHATTAN</td>\n",
       "      <td>32</td>\n",
       "      <td>0.0</td>\n",
       "      <td>NaN</td>\n",
       "      <td>False</td>\n",
       "      <td>NaN</td>\n",
       "      <td>NaN</td>\n",
       "      <td>...</td>\n",
       "      <td>18-24</td>\n",
       "      <td>M</td>\n",
       "      <td>BLACK</td>\n",
       "      <td>1000493</td>\n",
       "      <td>236572</td>\n",
       "      <td>40.816005</td>\n",
       "      <td>-73.941320</td>\n",
       "      <td>POINT (-73.94131972799995 40.81600451200006)</td>\n",
       "      <td>2014</td>\n",
       "      <td>7</td>\n",
       "    </tr>\n",
       "    <tr>\n",
       "      <th>3</th>\n",
       "      <td>154563857</td>\n",
       "      <td>07/03/2016</td>\n",
       "      <td>1:30:00</td>\n",
       "      <td>BROOKLYN</td>\n",
       "      <td>83</td>\n",
       "      <td>0.0</td>\n",
       "      <td>NaN</td>\n",
       "      <td>False</td>\n",
       "      <td>NaN</td>\n",
       "      <td>NaN</td>\n",
       "      <td>...</td>\n",
       "      <td>18-24</td>\n",
       "      <td>M</td>\n",
       "      <td>BLACK</td>\n",
       "      <td>1008115</td>\n",
       "      <td>190458</td>\n",
       "      <td>40.689416</td>\n",
       "      <td>-73.913947</td>\n",
       "      <td>POINT (-73.91394709799994 40.68941602700004)</td>\n",
       "      <td>2016</td>\n",
       "      <td>7</td>\n",
       "    </tr>\n",
       "    <tr>\n",
       "      <th>4</th>\n",
       "      <td>33160009</td>\n",
       "      <td>07/17/2007</td>\n",
       "      <td>23:30:00</td>\n",
       "      <td>BROOKLYN</td>\n",
       "      <td>71</td>\n",
       "      <td>0.0</td>\n",
       "      <td>NaN</td>\n",
       "      <td>False</td>\n",
       "      <td>NaN</td>\n",
       "      <td>NaN</td>\n",
       "      <td>...</td>\n",
       "      <td>&lt;18</td>\n",
       "      <td>M</td>\n",
       "      <td>BLACK</td>\n",
       "      <td>995163</td>\n",
       "      <td>178527</td>\n",
       "      <td>40.656694</td>\n",
       "      <td>-73.960670</td>\n",
       "      <td>POINT (-73.96066977199997 40.656693553000025)</td>\n",
       "      <td>2007</td>\n",
       "      <td>7</td>\n",
       "    </tr>\n",
       "  </tbody>\n",
       "</table>\n",
       "<p>5 rows × 21 columns</p>\n",
       "</div>"
      ],
      "text/plain": [
       "   INCIDENT_KEY  OCCUR_DATE OCCUR_TIME       BORO  PRECINCT  \\\n",
       "0     156430715  09/02/2016   20:36:00      BRONX        44   \n",
       "1     145001700  08/02/2015    1:30:00      BRONX        43   \n",
       "2     137584243  07/04/2014   22:39:00  MANHATTAN        32   \n",
       "3     154563857  07/03/2016    1:30:00   BROOKLYN        83   \n",
       "4      33160009  07/17/2007   23:30:00   BROOKLYN        71   \n",
       "\n",
       "   JURISDICTION_CODE LOCATION_DESC  STATISTICAL_MURDER_FLAG PERP_AGE_GROUP  \\\n",
       "0                0.0           NaN                    False            NaN   \n",
       "1                0.0           NaN                    False            NaN   \n",
       "2                0.0           NaN                    False            NaN   \n",
       "3                0.0           NaN                    False            NaN   \n",
       "4                0.0           NaN                    False            NaN   \n",
       "\n",
       "  PERP_SEX  ... VIC_AGE_GROUP VIC_SEX VIC_RACE X_COORD_CD Y_COORD_CD  \\\n",
       "0      NaN  ...         25-44       F    BLACK    1007885     246406   \n",
       "1      NaN  ...           <18       F    BLACK    1023203     238742   \n",
       "2      NaN  ...         18-24       M    BLACK    1000493     236572   \n",
       "3      NaN  ...         18-24       M    BLACK    1008115     190458   \n",
       "4      NaN  ...           <18       M    BLACK     995163     178527   \n",
       "\n",
       "    Latitude  Longitude                                        Lon_Lat  Year  \\\n",
       "0  40.842979 -73.914580  POINT (-73.91457972899997 40.842979335000045)  2016   \n",
       "1  40.821890 -73.859262   POINT (-73.85926192199997 40.82188959900003)  2015   \n",
       "2  40.816005 -73.941320   POINT (-73.94131972799995 40.81600451200006)  2014   \n",
       "3  40.689416 -73.913947   POINT (-73.91394709799994 40.68941602700004)  2016   \n",
       "4  40.656694 -73.960670  POINT (-73.96066977199997 40.656693553000025)  2007   \n",
       "\n",
       "   ShootingMonth  \n",
       "0              9  \n",
       "1              8  \n",
       "2              7  \n",
       "3              7  \n",
       "4              7  \n",
       "\n",
       "[5 rows x 21 columns]"
      ]
     },
     "execution_count": 4,
     "metadata": {},
     "output_type": "execute_result"
    }
   ],
   "source": [
    "#Adding columns for the year and month\n",
    "shooting_df[\"Year\"] = pd.DatetimeIndex(shooting_df['OCCUR_DATE']).year\n",
    "shooting_df[\"ShootingMonth\"] = pd.DatetimeIndex(shooting_df['OCCUR_DATE']).month\n",
    "shooting_df.head()"
   ]
  },
  {
   "cell_type": "markdown",
   "metadata": {},
   "source": [
    "## Shootings by Borough"
   ]
  },
  {
   "cell_type": "code",
   "execution_count": 5,
   "metadata": {},
   "outputs": [
    {
     "data": {
      "image/png": "[encoded data removed]",
      "text/plain": [
       "<Figure size 1080x504 with 1 Axes>"
      ]
     },
     "metadata": {
      "needs_background": "light"
     },
     "output_type": "display_data"
    }
   ],
   "source": [
    "#Shootings grouped by year and borough\n",
    "shooting_counts = shooting_df.groupby([\"Year\",\"BORO\"])[\"Year\"].count().unstack(\"BORO\")\n",
    "\n",
    "shooting_counts.plot(kind=\"bar\",stacked=True,figsize=(15,7))\n",
    "plt.legend(loc=\"best\")\n",
    "plt.title(\"Yearly Shootings per New York Borough\")\n",
    "plt.xlabel(\"Years\")\n",
    "plt.ylabel(\"Shootings\")\n",
    "\n",
    "# Save Shootings by Borough Image\n",
    "plt.savefig(\"Images/NYC_Shootings_Borough.png\")\n",
    "\n",
    "plt.show()"
   ]
  },
  {
   "cell_type": "code",
   "execution_count": 34,
   "metadata": {},
   "outputs": [
    {
     "data": {
      "image/png": "[encoded data removed]",
      "text/plain": [
       "<Figure size 504x504 with 1 Axes>"
      ]
     },
     "metadata": {},
     "output_type": "display_data"
    }
   ],
   "source": [
    "# Shooting percentages per borough\n",
    "borough_shooting_pie = shooting_df.BORO.value_counts().plot(kind=\"pie\",autopct='%1.1f%%',\n",
    "                                                            figsize=(7,7),fontsize=12)\n",
    "\n",
    "plt.ylabel(\"Borough\",fontsize=15)\n",
    "plt.suptitle(\"Shooting Percentages per Borough\",fontsize=15)\n",
    "\n",
    "# Save Shootings by Borough Image\n",
    "plt.savefig(\"Images/NYC_Shootings_BoroughPercentages.png\")"
   ]
  },
  {
   "cell_type": "code",
   "execution_count": 6,
   "metadata": {},
   "outputs": [
    {
     "data": {
      "application/vnd.jupyter.widget-view+json": {
       "model_id": "521bf4c747484e43bd4b0af6e6ff0f4f",
       "version_major": 2,
       "version_minor": 0
      },
      "text/plain": [
       "Figure(layout=FigureLayout(height='420px'))"
      ]
     },
     "metadata": {},
     "output_type": "display_data"
    }
   ],
   "source": [
    "# Store latitude and longitude in locations\n",
    "locations = shooting_df[[\"Latitude\", \"Longitude\"]]\n",
    "\n",
    "# Fill NaN values and convert to float\n",
    "#weights = shooting_df[\"Year\"].astype(float)\n",
    "\n",
    "# Plot Heatmap\n",
    "fig = gmaps.figure(center=(40.7128,-74.0060),zoom_level=10)\n",
    "\n",
    "# Create heat layer\n",
    "heat_layer = gmaps.heatmap_layer(locations)\n",
    "\n",
    "# Add layer\n",
    "fig.add_layer(heat_layer)\n",
    "\n",
    "gmaps.configure(api_key=g_key)\n",
    "with open('Resources/Borough Boundaries.geojson') as f:\n",
    "    geometry = json.load(f)\n",
    "geojson_layer = gmaps.geojson_layer(geometry, fill_color=\"white\", fill_opacity=0.0, stroke_weight=2)\n",
    "fig.add_layer(geojson_layer)\n",
    "\n",
    "# Display figure\n",
    "fig"
   ]
  },
  {
   "cell_type": "markdown",
   "metadata": {},
   "source": [
    "### Question: Where are shootings more prevalent in New York (analyzed by borough)?\n",
    "\n",
    "The Brooklyn borough has the most shootings than any of the other boroughs. "
   ]
  },
  {
   "cell_type": "markdown",
   "metadata": {},
   "source": [
    "## Demograpics of Victims"
   ]
  },
  {
   "cell_type": "code",
   "execution_count": 7,
   "metadata": {},
   "outputs": [
    {
     "data": {
      "image/png": "[encoded data removed]",
      "text/plain": [
       "<Figure size 864x360 with 1 Axes>"
      ]
     },
     "metadata": {
      "needs_background": "light"
     },
     "output_type": "display_data"
    },
    {
     "data": {
      "image/png": "[encoded data removed]",
      "text/plain": [
       "<Figure size 864x360 with 1 Axes>"
      ]
     },
     "metadata": {
      "needs_background": "light"
     },
     "output_type": "display_data"
    },
    {
     "data": {
      "image/png": "[encoded data removed]",
      "text/plain": [
       "<Figure size 864x360 with 1 Axes>"
      ]
     },
     "metadata": {
      "needs_background": "light"
     },
     "output_type": "display_data"
    }
   ],
   "source": [
    "# Evaluating victom demographcs looking at age group, gender, and race\n",
    "# Age Group\n",
    "shooting_victim_age_counts = shooting_df.groupby([\"Year\",\"VIC_AGE_GROUP\"])[\"Year\"].count().unstack(\"VIC_AGE_GROUP\")\n",
    "\n",
    "shooting_victim_age_counts.plot(kind=\"bar\",stacked=True,figsize=(12,5))\n",
    "plt.legend(loc=\"upper right\")\n",
    "\n",
    "plt.title(\"Yearly Shootings per Victim Age Group\")\n",
    "plt.xlabel(\"Years\")\n",
    "plt.ylabel(\"Shootings\")\n",
    "\n",
    "# Save Age Group Image\n",
    "plt.savefig(\"Images/NYC_Shootings_Demographics_AgeGroup.png\")\n",
    "\n",
    "# Gender\n",
    "shooting_victim_sex_counts = shooting_df.groupby([\"Year\",\"VIC_SEX\"])[\"Year\"].count().unstack(\"VIC_SEX\")\n",
    "\n",
    "shooting_victim_sex_counts.plot(kind=\"bar\",stacked=True,figsize=(12,5))\n",
    "plt.legend(loc=\"best\")\n",
    "\n",
    "plt.title(\"Yearly Shootings per Victim Gender\")\n",
    "plt.xlabel(\"Years\")\n",
    "plt.ylabel(\"Shootings\")\n",
    "\n",
    "# Save Gender Image\n",
    "plt.savefig(\"Images/NYC_Shootings_Demographics_Gender.png\")\n",
    "\n",
    "# Race\n",
    "shooting_victim_race_counts = shooting_df.groupby([\"Year\",\"VIC_RACE\"])[\"Year\"].count().unstack(\"VIC_RACE\")\n",
    "\n",
    "shooting_victim_race_counts.plot(kind=\"bar\",stacked=True,figsize=(12,5))\n",
    "plt.legend(loc=\"best\")\n",
    "\n",
    "plt.title(\"Yearly Shootings per Victim Race\")\n",
    "plt.xlabel(\"Years\")\n",
    "plt.ylabel(\"Shootings\")\n",
    "\n",
    "# Save Race Image\n",
    "plt.savefig(\"Images/NYC_Shootings_Demographics_Race.png\")\n",
    "\n",
    "plt.show()"
   ]
  },
  {
   "cell_type": "markdown",
   "metadata": {},
   "source": [
    "### Question: What are the demographics of victims? Are there patterns/trends based on victim demographics?\n",
    "\n",
    "In the age buckets, the predominate ages of shooting victims are the 18-24 and 25-44 age ranges. The 25-44 age range is the largest range of ages of shooting victims. There was a spike in this age range in 2019. \n",
    "\n",
    "The predominant gender of shooting victims are male. \n",
    "\n",
    "As far as race, a majority of the shooting victims are Black. The second closest race is White Hispanic."
   ]
  },
  {
   "cell_type": "markdown",
   "metadata": {},
   "source": [
    "## Shootings Over Time: Impact of Policing Strategies"
   ]
  },
  {
   "cell_type": "code",
   "execution_count": 8,
   "metadata": {},
   "outputs": [
    {
     "data": {
      "image/png": "[encoded data removed]",
      "text/plain": [
       "<Figure size 432x288 with 1 Axes>"
      ]
     },
     "metadata": {
      "needs_background": "light"
     },
     "output_type": "display_data"
    }
   ],
   "source": [
    "# Shootings Over Time - Bucketing by the years of different strategies\n",
    "\n",
    "# All Years\n",
    "shooting_year_groupby = shooting_df.groupby([\"Year\"])\n",
    "shooting_year_counts = shooting_year_groupby[\"INCIDENT_KEY\"].count()\n",
    "\n",
    "# 2006-2010\n",
    "shootings_2006_2010_df = shooting_df.loc[(shooting_df[\"Year\"] >= 2006) &\n",
    "                                        (shooting_df[\"Year\"] < 2011)]\n",
    "shooting_2006_2010_groupby = shootings_2006_2010_df.groupby([\"Year\"])\n",
    "shooting_2006_2010_counts = shooting_2006_2010_groupby[\"INCIDENT_KEY\"].count()\n",
    "\n",
    "# 2011-2014 (4 years prior to neighborhood policing strategy)\n",
    "shootings_2011_2014_df = shooting_df.loc[(shooting_df[\"Year\"] >= 2011) &\n",
    "                                        (shooting_df[\"Year\"] < 2014)]\n",
    "shooting_2011_2014_groupby = shootings_2011_2014_df.groupby([\"Year\"])\n",
    "shooting_2011_2014_counts = shooting_2011_2014_groupby[\"INCIDENT_KEY\"].count()\n",
    "\n",
    "# 2015-2019 (4 years after the neighborhood policing strategy was implemented)\n",
    "shootings_2015_df = shooting_df.loc[(shooting_df[\"Year\"] >= 2015) &\n",
    "                                        (shooting_df[\"Year\"] < 2020)]\n",
    "shooting_2015_groupby = shootings_2015_df.groupby([\"Year\"])\n",
    "shooting_2015_counts = shooting_2015_groupby[\"INCIDENT_KEY\"].count()\n",
    "\n",
    "# Combine data to create box plot of the time frames\n",
    "shooting_year_counts_df = pd.DataFrame(shooting_year_counts)\n",
    "shooting_2006_2010_counts_df = pd.DataFrame(shooting_2006_2010_counts)\n",
    "shooting_2011_2014_counts_df = pd.DataFrame(shooting_2011_2014_counts)\n",
    "shooting_2015_counts_df = pd.DataFrame(shooting_2015_counts)\n",
    "\n",
    "combine = [shooting_year_counts_df[\"INCIDENT_KEY\"],\n",
    "           shooting_2006_2010_counts_df[\"INCIDENT_KEY\"],\n",
    "           shooting_2011_2014_counts_df[\"INCIDENT_KEY\"],\n",
    "           shooting_2015_counts_df[\"INCIDENT_KEY\"]]\n",
    "\n",
    "year_groupings = [\"All Years\", \"2006-2010\", \"2011-2014\", \"2015-2019\"]\n",
    "tick_locations = [1,2,3,4]\n",
    "\n",
    "fig5,ax5 = plt.subplots()\n",
    "ax5.set_ylabel(\"Number of Shootings\")\n",
    "ax5.set_xlabel(\"Years\")\n",
    "ax5.set_title(\"Number of Shootings Between 2006-2019\")\n",
    "outlier = dict(marker=\"o\", markerfacecolor=\"red\", markersize=10)\n",
    "ax5.boxplot(combine,flierprops=outlier)\n",
    "plt.xticks(tick_locations,year_groupings)\n",
    "plt.xticks(rotation=90)\n",
    "\n",
    "# Save statistical analysis box plot\n",
    "plt.savefig(\"Images/NYC_Shootings_YearsAnalysis.png\")\n",
    "\n",
    "plt.show()"
   ]
  },
  {
   "cell_type": "code",
   "execution_count": 9,
   "metadata": {},
   "outputs": [
    {
     "name": "stdout",
     "output_type": "stream",
     "text": [
      "The mean shootings of all years 2006-2020 is 1535.9333333333334\n",
      "The mean shootings of years 2006-2010 is 1927.6\n",
      "The mean shootings of years 2011-2014 is 1665.0\n",
      "The mean shootings of years 2015-2019 is 1255.6\n",
      "\n",
      "The median shootings of all years 2006-2020 is 1716.0\n",
      "The median shootings of years 2006-2010 is 1910.0\n",
      "The median shootings of years 2011-2014 is 1717.0\n",
      "The median shootings of years 2015-2019 is 1208.0\n",
      "\n",
      "The mode shootings of all years 2006-2020 is ModeResult(mode=array([664], dtype=int64), count=array([1]))\n",
      "The mode shootings of years 2006-2010 is ModeResult(mode=array([1828], dtype=int64), count=array([1]))\n",
      "The mode shootings of years 2011-2014 is ModeResult(mode=array([1339], dtype=int64), count=array([1]))\n",
      "The mode shootings of years 2015-2019 is ModeResult(mode=array([951], dtype=int64), count=array([1]))\n",
      "\n",
      "The percent change of the average between 2011-2014 and 2015-2019 is 24.588588588588596%\n"
     ]
    }
   ],
   "source": [
    "# Statistical Analysis in the year buckets\n",
    "# Average of each year range\n",
    "mean_shootings = np.mean(shooting_year_counts)\n",
    "mean_shootings_2006_2010 = np.mean(shooting_2006_2010_counts)\n",
    "mean_shootings_2011_2014 = np.mean(shooting_2011_2014_counts)\n",
    "mean_shootings_2015_2019 = np.mean(shooting_2015_counts)\n",
    "\n",
    "# Median\n",
    "median_shootings = np.median(shooting_year_counts)\n",
    "median_shootings_2006_2010 = np.median(shooting_2006_2010_counts)\n",
    "median_shootings_2011_2014 = np.median(shooting_2011_2014_counts)\n",
    "median_shootings_2015 = np.median(shooting_2015_counts)\n",
    "\n",
    "# Mode\n",
    "mode_shootings = sts.mode(shooting_year_counts)\n",
    "mode_shootings_2006_2010 = sts.mode(shooting_2006_2010_counts)\n",
    "mode_shootings_2011_2014 = sts.mode(shooting_2011_2014_counts)\n",
    "mode_shootings_2015 = sts.mode(shooting_2015_counts)\n",
    "\n",
    "perc_change = (mean_shootings_2011_2014 - mean_shootings_2015_2019) / mean_shootings_2011_2014 * 100\n",
    "\n",
    "print(f\"The mean shootings of all years 2006-2020 is {mean_shootings}\")\n",
    "print(f\"The mean shootings of years 2006-2010 is {mean_shootings_2006_2010}\")\n",
    "print(f\"The mean shootings of years 2011-2014 is {mean_shootings_2011_2014}\")\n",
    "print(f\"The mean shootings of years 2015-2019 is {mean_shootings_2015_2019}\")\n",
    "print(f\"\")\n",
    "print(f\"The median shootings of all years 2006-2020 is {median_shootings}\")\n",
    "print(f\"The median shootings of years 2006-2010 is {median_shootings_2006_2010}\")\n",
    "print(f\"The median shootings of years 2011-2014 is {median_shootings_2011_2014}\")\n",
    "print(f\"The median shootings of years 2015-2019 is {median_shootings_2015}\")\n",
    "print(f\"\")\n",
    "print(f\"The mode shootings of all years 2006-2020 is {mode_shootings}\")\n",
    "print(f\"The mode shootings of years 2006-2010 is {mode_shootings_2006_2010}\")\n",
    "print(f\"The mode shootings of years 2011-2014 is {mode_shootings_2011_2014}\")\n",
    "print(f\"The mode shootings of years 2015-2019 is {mode_shootings_2015}\")\n",
    "print(f\"\")\n",
    "print(f\"The percent change of the average between 2011-2014 and 2015-2019 is {perc_change}%\")"
   ]
  },
  {
   "cell_type": "code",
   "execution_count": 73,
   "metadata": {},
   "outputs": [
    {
     "name": "stdout",
     "output_type": "stream",
     "text": [
      "The correlation between 2014 and 2018 is 0.79\n"
     ]
    }
   ],
   "source": [
    "shootings_2014_df = shooting_df.loc[shooting_df[\"Year\"] == 2014]\n",
    "shootings_2018_df = shooting_df.loc[shooting_df[\"Year\"] == 2018]\n",
    "\n",
    "shootings_2014_counts = shootings_2014_df.groupby([\"ShootingMonth\"]).count()\n",
    "shootings_2018_counts = shootings_2018_df.groupby([\"ShootingMonth\"]).count()\n",
    "\n",
    "counts_2014 = shootings_2014_counts[\"INCIDENT_KEY\"]\n",
    "counts_2018 = shootings_2018_counts[\"INCIDENT_KEY\"]\n",
    "\n",
    "correlation = sts.pearsonr(counts_2014,counts_2018)\n",
    "print(f\"The correlation between 2014 and 2018 is {round(correlation[0],2)}\")"
   ]
  },
  {
   "cell_type": "markdown",
   "metadata": {},
   "source": [
    "### Question: How were shooting incidents statistically impacted by implemented strategies? What were those percent changes?\n",
    "\n",
    "In 2015, the Community Policing strategy was introduced. Between the years of 2015-2019 the number of shootings were reduced. The average shootings dropped by 24.6%. \n",
    "\n",
    "Looking at the p-value, between the year prior to the community policing and the last year the shooting counts dropped it is 0.79 signifying there is no statistical significance."
   ]
  },
  {
   "cell_type": "markdown",
   "metadata": {},
   "source": [
    "## Outliers"
   ]
  },
  {
   "cell_type": "code",
   "execution_count": 10,
   "metadata": {},
   "outputs": [
    {
     "data": {
      "image/png": "[encoded data removed]",
      "text/plain": [
       "<Figure size 1080x504 with 1 Axes>"
      ]
     },
     "metadata": {
      "needs_background": "light"
     },
     "output_type": "display_data"
    }
   ],
   "source": [
    "# Shooting Counts per year per month of that year\n",
    "shooting_month_counts = shooting_df.groupby([\"Year\",\"ShootingMonth\"])[\"Year\"].count().unstack(\"ShootingMonth\")\n",
    "\n",
    "shooting_month_counts.plot(kind=\"bar\",stacked=True,figsize=(15,7))\n",
    "plt.legend(loc=\"best\")\n",
    "plt.title(\"Yearly Shootings per Month\")\n",
    "plt.xlabel(\"Years\")\n",
    "plt.ylabel(\"Number of Shootings\")\n",
    "\n",
    "# Save statistical analysis box plot\n",
    "plt.savefig(\"Images/NYC_Shootings_YearMonthAnalysis.png\")\n",
    "\n",
    "plt.show()"
   ]
  },
  {
   "cell_type": "code",
   "execution_count": 11,
   "metadata": {},
   "outputs": [],
   "source": [
    "# reseting the index\n",
    "shooting_year_counts_df = shooting_year_counts_df.reset_index(drop=False)"
   ]
  },
  {
   "cell_type": "code",
   "execution_count": 12,
   "metadata": {},
   "outputs": [
    {
     "name": "stdout",
     "output_type": "stream",
     "text": [
      "The r-squared is: 0.6992422580428906\n"
     ]
    },
    {
     "data": {
      "image/png": "[encoded data removed]",
      "text/plain": [
       "<Figure size 432x288 with 1 Axes>"
      ]
     },
     "metadata": {
      "needs_background": "light"
     },
     "output_type": "display_data"
    }
   ],
   "source": [
    "# Plotting the shooting counts per year and doing a linear regression\n",
    "x_values = shooting_year_counts_df[\"Year\"]\n",
    "y_values = shooting_year_counts_df[\"INCIDENT_KEY\"]\n",
    "(slope,intercept,rvalue,pvalue,stderr) = linregress(x_values,y_values)\n",
    "regress_values = x_values * slope + intercept\n",
    "line_eq = \"y = \" + str(round(slope,2)) + \"x + \" + str(round(intercept,2))\n",
    "plt.scatter(x_values,y_values)\n",
    "plt.plot(x_values,regress_values,\"r-\")\n",
    "plt.annotate(line_eq,(2006,1000),fontsize=15,color=\"red\")\n",
    "plt.xlabel('Year')\n",
    "plt.ylabel('Number of Shootings')\n",
    "plt.title(\"Shootings in NYC per Year\")\n",
    "print(f\"The r-squared is: {rvalue**2}\")\n",
    "\n",
    "# Save statistical analysis box plot\n",
    "plt.savefig(\"Images/NYC_Shootings_RegressionAnalysis.png\")\n",
    "\n",
    "plt.show()"
   ]
  },
  {
   "cell_type": "code",
   "execution_count": 13,
   "metadata": {},
   "outputs": [],
   "source": [
    "# Grouping by the Year and Month to get the counts per year and month and placing that information in a dataframe\n",
    "shooting_month_year_groupby = shooting_df.groupby([\"Year\",\"ShootingMonth\"])\n",
    "counts_year_month = shooting_month_year_groupby[\"INCIDENT_KEY\"].count()\n",
    "counts_year_month_df = pd.DataFrame(counts_year_month)"
   ]
  },
  {
   "cell_type": "code",
   "execution_count": 14,
   "metadata": {},
   "outputs": [],
   "source": [
    "# Resetting the index\n",
    "counts_year_month_df.reset_index(inplace=True)"
   ]
  },
  {
   "cell_type": "code",
   "execution_count": 15,
   "metadata": {},
   "outputs": [],
   "source": [
    "# Renaming the columns from numbers to the month name\n",
    "counts_year_month_df[\"ShootingMonth\"] = counts_year_month_df[\"ShootingMonth\"].replace({\n",
    "    1:\"January\",\n",
    "    2:\"February\",\n",
    "    3:\"March\",\n",
    "    4:\"April\",\n",
    "    5:\"May\",\n",
    "    6:\"June\",\n",
    "    7:\"July\",\n",
    "    8:\"August\",\n",
    "    9:\"September\",\n",
    "    10:\"October\",\n",
    "    11:\"November\",\n",
    "    12:\"December\"\n",
    "})\n",
    "\n",
    "# For 2020, only have data from Jan-June. Creating records for the rest of the year.\n",
    "rest_of_year_2020 = [ \n",
    "    (2020,'July',0),\n",
    "    (2020,'August',0),\n",
    "    (2020,'September',0),\n",
    "    (2020,'October',0),\n",
    "    (2020,'November',0),\n",
    "    (2020,'December',0)\n",
    "]\n",
    "\n",
    "# making the rest_of_year a dataframe and adding column names\n",
    "rest_of_year_2020_df = pd.DataFrame(rest_of_year_2020)\n",
    "rest_of_year_2020_df = rest_of_year_2020_df.rename(columns={0:\"Year\",1:\"ShootingMonth\",2:\"INCIDENT_KEY\"})"
   ]
  },
  {
   "cell_type": "code",
   "execution_count": 16,
   "metadata": {},
   "outputs": [],
   "source": [
    "# Appending the rest of the data with the rest of the year data\n",
    "all_months_years_df = counts_year_month_df.append(rest_of_year_2020_df, ignore_index=True)"
   ]
  },
  {
   "cell_type": "code",
   "execution_count": 17,
   "metadata": {},
   "outputs": [],
   "source": [
    "# Creating a data frame for 2018, 2019, and 2020\n",
    "# 2019 saw an increase in shootings. Comparing the year prior and the current year\n",
    "counts_year_month_2018_df = all_months_years_df.loc[all_months_years_df[\"Year\"] == 2018]\n",
    "counts_year_month_2019_df = all_months_years_df.loc[all_months_years_df[\"Year\"] == 2019]\n",
    "counts_year_month_2020_df = all_months_years_df.loc[all_months_years_df[\"Year\"] == 2020]"
   ]
  },
  {
   "cell_type": "code",
   "execution_count": 18,
   "metadata": {},
   "outputs": [
    {
     "data": {
      "image/png": "[encoded data removed]",
      "text/plain": [
       "<Figure size 432x288 with 1 Axes>"
      ]
     },
     "metadata": {
      "needs_background": "light"
     },
     "output_type": "display_data"
    }
   ],
   "source": [
    "# Creating a line graph of 2018, 2019, 2020\n",
    "x_axis = all_months_years_df[\"ShootingMonth\"].unique()\n",
    "\n",
    "y_axis_2018 = counts_year_month_2018_df[\"INCIDENT_KEY\"]\n",
    "y_axis_2019 = counts_year_month_2019_df[\"INCIDENT_KEY\"]\n",
    "y_axis_2020 = counts_year_month_2020_df[\"INCIDENT_KEY\"]\n",
    "\n",
    "year_2018, = plt.plot(x_axis, y_axis_2018, color=\"blue\", label=\"2018\" )\n",
    "\n",
    "years_2018_2019, = plt.plot(x_axis,y_axis_2019,label=\"2019\",color=\"orange\")\n",
    "\n",
    "years_2018_2019_2020, = plt.plot(x_axis,y_axis_2020,label=\"2020\",color=\"green\")\n",
    "\n",
    "# Create a legend for our chart\n",
    "plt.legend(handles=[year_2018,years_2018_2019, years_2018_2019_2020], loc=\"best\")\n",
    "plt.xticks(rotation=90)\n",
    "\n",
    "plt.xlabel('Month')\n",
    "plt.ylabel('Number of Shootings')\n",
    "plt.title(\"Shootings in NYC for 2018, 2019 and 2020\")\n",
    "\n",
    "# Save statistical analysis box plot\n",
    "plt.savefig(\"Images/NYC_Shootings_Years2018_2019_2020_Analysis.png\")\n",
    "\n",
    "# Show the chart\n",
    "plt.show()"
   ]
  },
  {
   "cell_type": "code",
   "execution_count": 19,
   "metadata": {},
   "outputs": [
    {
     "name": "stdout",
     "output_type": "stream",
     "text": [
      "The shooting counts in 2018 are 951\n",
      "The shooting counts in 2019 are 1716\n",
      "The percentage change between 2018 and 2019 is 44.58041958041958%\n"
     ]
    }
   ],
   "source": [
    "# Percent change in total shootings between 2018 and 2019\n",
    "shootings_2018_df = shooting_df.loc[shooting_df[\"Year\"] == 2018]\n",
    "shooting_counts_2018 = shootings_2018_df[\"INCIDENT_KEY\"].count()\n",
    "\n",
    "shootings_2019_df = shooting_df.loc[shooting_df[\"Year\"] == 2019]\n",
    "shooting_counts_2019 = shootings_2019_df[\"INCIDENT_KEY\"].count()\n",
    "\n",
    "perc_chg_2018_2019 = (shooting_counts_2019 - shooting_counts_2018) / shooting_counts_2019 * 100\n",
    "\n",
    "print(f\"The shooting counts in 2018 are {shooting_counts_2018}\")\n",
    "print(f\"The shooting counts in 2019 are {shooting_counts_2019}\")\n",
    "print(f\"The percentage change between 2018 and 2019 is {perc_chg_2018_2019}%\")"
   ]
  },
  {
   "cell_type": "code",
   "execution_count": 20,
   "metadata": {},
   "outputs": [
    {
     "name": "stdout",
     "output_type": "stream",
     "text": [
      "The shooting counts in 2018 are 90\n",
      "The shooting counts in 2019 are 214\n",
      "The shooting counts in 2020 are 258\n",
      "The percentage change between June 2018 and June 2020 is 65.11627906976744%\n",
      "The percentage change between June 2019 and June 2020 is 17.05426356589147%\n"
     ]
    }
   ],
   "source": [
    "# Percent change in total shootings between 20182019\n",
    "shootings_2018_June_df = shooting_df.loc[(shooting_df[\"Year\"] == 2018) & (shooting_df[\"ShootingMonth\"] == 6)]\n",
    "shooting_counts_June_2018 = shootings_2018_June_df[\"INCIDENT_KEY\"].count()\n",
    "\n",
    "shootings_2019_June_df = shooting_df.loc[(shooting_df[\"Year\"] == 2019) & (shooting_df[\"ShootingMonth\"] == 6)]\n",
    "shooting_counts_June_2019 = shootings_2019_June_df[\"INCIDENT_KEY\"].count()\n",
    "\n",
    "shootings_2020_June_df = shooting_df.loc[(shooting_df[\"Year\"] == 2020) & (shooting_df[\"ShootingMonth\"] == 6)]\n",
    "shooting_counts_June_2020 = shootings_2020_June_df[\"INCIDENT_KEY\"].count()\n",
    "\n",
    "perc_chg_2018_2020_June = (shooting_counts_June_2020 - shooting_counts_June_2018) / shooting_counts_June_2020 * 100\n",
    "perc_chg_2019_2020_June = (shooting_counts_June_2020 - shooting_counts_June_2019) / shooting_counts_June_2020 * 100\n",
    "\n",
    "print(f\"The shooting counts in 2018 are {shooting_counts_June_2018}\")\n",
    "print(f\"The shooting counts in 2019 are {shooting_counts_June_2019}\")\n",
    "print(f\"The shooting counts in 2020 are {shooting_counts_June_2020}\")\n",
    "\n",
    "print(f\"The percentage change between June 2018 and June 2020 is {perc_chg_2018_2020_June}%\")\n",
    "print(f\"The percentage change between June 2019 and June 2020 is {perc_chg_2019_2020_June}%\")"
   ]
  },
  {
   "cell_type": "markdown",
   "metadata": {},
   "source": [
    "## Question: What outliers were discovered in the data that had an impact on the crime rate? Are there geographical impacts?\n",
    "\n",
    "In the year buckets created before and after the policing strategies were implemented, there were not outliers in the data.\n",
    "\n",
    "There was a 44.6% increase in shootings between 2018 and 2019. Upon further investigation, NY has noted that the number of shootings did increase in 2019 but currently are not seeing it as statistically relevant. Looking at the regression line, even with the spike of shootings in 2019 the shootings are still trending down.\n",
    "\n",
    "In 2020 so far, NYC has seen a spike of shootings in the month of June. Prior to June, 2020 was trending like 2018 before the increase in June. Comparing June 2018 and June 2020, the number of shootings increased by 65.1%. Comparing June 2019 and June 2020, the number of shootings increased by 17.1%. With the world dealing with COVID, there have been spikes in crime. More criminals are being released due to the virus. NYC has seen budget cuts; therefore reducing the amount of recruits by 1,163. There have been more officers retiring. Also, civil unrest has attributed in crime. "
   ]
  },
  {
   "cell_type": "markdown",
   "metadata": {},
   "source": [
    "## Question: How has their policing approach changed over time? Did they combine methodologies during the period evaluated?\n",
    "\n",
    "NYC did combine many methodologies over the time but there is no way to conclusively know which methods worked and which ones did not. It does appear that the community policing may have contributed to a decline in shootings when it was implemented but there could have been other programs concurrently happening that aided in the decrease of shootings. "
   ]
  },
  {
   "cell_type": "code",
   "execution_count": null,
   "metadata": {},
   "outputs": [],
   "source": []
  }
 ],
 "metadata": {
  "kernelspec": {
   "display_name": "Python [conda env:PythonData] *",
   "language": "python",
   "name": "conda-env-PythonData-py"
  },
  "language_info": {
   "codemirror_mode": {
    "name": "ipython",
    "version": 3
   },
   "file_extension": ".py",
   "mimetype": "text/x-python",
   "name": "python",
   "nbconvert_exporter": "python",
   "pygments_lexer": "ipython3",
   "version": "3.6.10"
  }
 },
 "nbformat": 4,
 "nbformat_minor": 4
}
